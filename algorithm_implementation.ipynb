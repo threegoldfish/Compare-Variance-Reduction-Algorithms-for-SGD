{
  "cells": [
    {
      "cell_type": "markdown",
      "id": "25c513fd",
      "metadata": {
        "id": "25c513fd"
      },
      "source": [
        "# Realization and evaluation of SVRG algorithm on pattern recognition problems\n",
        "\n",
        "\n",
        "\n",
        "\n",
        "## 1 Logistic Regression\n",
        "To discover the performance of SVRG in convex optimization, compared to that of fixed-learning-rate SGD’s, L2-\n",
        "regrularized logistic regression with cross-entropy loss is\n",
        "performed. The regularization parameter is λ = 0.0001, and\n",
        "the total number of gradient operations for both algorithms\n",
        "is fixed to 10000. We used the same training dataset as John-\n",
        "son and Zhang’s (Johnson & Zhang, 2013). Data is retrieved\n",
        "from Python package tensorflow.examples.tutorials.mnist\n",
        "in version 1.14.0 and directly used in analysis with no pre-\n",
        "processing procedures.\n",
        "\n",
        "### 1.1 Define functions"
      ]
    },
    {
      "cell_type": "code",
      "execution_count": null,
      "id": "0a9ab573",
      "metadata": {
        "id": "0a9ab573"
      },
      "outputs": [],
      "source": [
        "#import packages\n",
        "import numpy as np\n",
        "from tensorflow.examples.tutorials.mnist import input_data\n",
        "import matplotlib.pyplot as plt\n",
        "import tensorflow as tf\n",
        "import tf_helpers as helpers\n",
        "import time\n",
        "import torch\n",
        "import torchvision\n",
        "import torchvision.transforms as transforms\n",
        "from torch.autograd import Variable, grad\n",
        "import torch.nn as nn\n",
        "import torch.nn.functional as F\n",
        "import torch.optim as optim\n",
        "import random\n",
        "import copy\n",
        "torch.manual_seed(0)\n",
        "\n",
        "#resolve issue between torch and matplotlib\n",
        "import os\n",
        "os.environ[\"KMP_DUPLICATE_LIB_OK\"]=\"TRUE\""
      ]
    },
    {
      "cell_type": "code",
      "execution_count": null,
      "id": "553d457b",
      "metadata": {
        "id": "553d457b"
      },
      "outputs": [],
      "source": [
        "#define helper functions\n",
        "def softmax(z):\n",
        "   return np.array([(np.exp(el)/np.sum(np.exp(el))) for el in z])\n",
        "\n",
        "def cost(W,F,L, reg):\n",
        "   m = F.shape[0]\n",
        "   mul = np.dot(F, W)\n",
        "   sm_mul_T = softmax(mul)\n",
        "   return -(1/m) * np.sum(L * np.log(sm_mul_T)) + reg/2/m*np.linalg.norm(W)\n",
        "\n",
        "def gradient(W,F,L, reg):\n",
        "   m = F.shape[0]  # get number of rows\n",
        "   mul = np.dot(F, W)\n",
        "   sm_mul_T = softmax(mul)\n",
        "   return -(1 / m) * np.dot(F.T , (L - sm_mul_T)) + reg*W"
      ]
    },
    {
      "cell_type": "code",
      "execution_count": null,
      "id": "ac163d05",
      "metadata": {
        "id": "ac163d05"
      },
      "outputs": [],
      "source": [
        "#define stochastic gradient descent algorithn and stochastic variance reduced gradient\n",
        "def sgd(eta, reg = 0.0001, max_iter = 100000):\n",
        "    W = np.zeros((785, 10)) #784 features + 1 basis\n",
        "    ls = np.zeros(max_iter)\n",
        "    us = np.zeros(max_iter)\n",
        "    ts = np.zeros(max_iter)\n",
        "    for i in range(max_iter):\n",
        "        F, L = mnist.train.next_batch(200)\n",
        "        F = np.insert(F,0, values=1, axis=1)\n",
        "\n",
        "        #calculate trainng loss(whole not batch)\n",
        "        F_val, L_val = mnist.train.next_batch(100)\n",
        "        F_val = np.insert(F_val,0, values=1, axis=1)\n",
        "        ls[i] = cost(W, F_val, L_val, reg)\n",
        "        start = time.time()\n",
        "        #calculate gradient and update\n",
        "        gradients = gradient(W,F,L, reg)\n",
        "        us[i] = np.sum(eta*gradients)\n",
        "        W = W - (eta * (gradients))\n",
        "        ts[i] = time.time() - start\n",
        "        \n",
        "        if i%10000 == 0:\n",
        "            print(i/10000)\n",
        "    \n",
        "    return ls, W, us, ts\n",
        "\n",
        "def svrg(eta, reg = 0.0001, max_iter = 100, m = 100):\n",
        "    #initialize\n",
        "    W = np.zeros((785, 10))\n",
        "    ls = np.zeros(max_iter)\n",
        "    us = np.zeros(max_iter*m)\n",
        "    ts = np.zeros(max_iter)\n",
        "    \n",
        "    #train\n",
        "    for s in range(max_iter):\n",
        "        trainx_whole = np.insert(mnist.train.images,0, values=1, axis=1)\n",
        "        trainy_whole = mnist.train.labels\n",
        "        start = time.time()\n",
        "        mu = gradient(W, trainx_whole, trainy_whole, reg)\n",
        "        W_tloop = W\n",
        "        for t in range(m):\n",
        "            F, L = mnist.train.next_batch(100)\n",
        "            F = np.insert(F,0, values=1, axis=1)\n",
        "            updates = eta*(gradient(W_tloop, F, L, reg) -\n",
        "                           gradient(W, F, L, reg) + mu)\n",
        "            us[(s-1)*m + (t-1)] = np.sum(updates)\n",
        "            W_tloop = W_tloop - updates\n",
        "        W = W_tloop\n",
        "        ts[s] = time.time() - start\n",
        "        ls[s] = cost(W, trainx_whole, trainy_whole, reg)\n",
        "        \n",
        "        if s%10 == 0:\n",
        "            print(s)\n",
        "\n",
        "    return ls, W, us, ts"
      ]
    },
    {
      "cell_type": "markdown",
      "id": "4c9069a1",
      "metadata": {
        "id": "4c9069a1"
      },
      "source": [
        "### 1.2 Train Models"
      ]
    },
    {
      "cell_type": "code",
      "execution_count": null,
      "id": "9a7a2116",
      "metadata": {
        "id": "9a7a2116",
        "outputId": "b7da6874-6acc-4f58-9469-7ee31688d7d9"
      },
      "outputs": [
        {
          "name": "stdout",
          "output_type": "stream",
          "text": [
            "Extracting ./datasets/MNIST_data/train-images-idx3-ubyte.gz\n",
            "Extracting ./datasets/MNIST_data/train-labels-idx1-ubyte.gz\n",
            "Extracting ./datasets/MNIST_data/t10k-images-idx3-ubyte.gz\n",
            "Extracting ./datasets/MNIST_data/t10k-labels-idx1-ubyte.gz\n"
          ]
        }
      ],
      "source": [
        "#import mnist dataset\n",
        "mnist = input_data.read_data_sets(\"./datasets/MNIST_data/\", one_hot=True)"
      ]
    },
    {
      "cell_type": "markdown",
      "id": "b48c04ea",
      "metadata": {
        "id": "b48c04ea"
      },
      "source": [
        "#### 1.2.1 Train SGD Model"
      ]
    },
    {
      "cell_type": "code",
      "execution_count": null,
      "id": "bd6e8a08",
      "metadata": {
        "id": "bd6e8a08",
        "outputId": "e210bcf5-ee81-4d3a-ef97-96d826ee6062"
      },
      "outputs": [
        {
          "name": "stdout",
          "output_type": "stream",
          "text": [
            "0.0\n",
            "005 done\n",
            "0.0\n",
            "0025 done\n",
            "0.0\n",
            "001 done\n"
          ]
        }
      ],
      "source": [
        "ls_005, wfinal_005, us_005, ts_005 = sgd(0.005, max_iter = 10000)\n",
        "print(\"005 done\")\n",
        "ls_0025, wfinal_0025, us_0025, ts_0025 = sgd(0.0025, max_iter = 10000)\n",
        "print(\"0025 done\")\n",
        "ls_001, wfinal_001, us_001, ts_001 = sgd(0.001, max_iter = 10000)\n",
        "print(\"001 done\")"
      ]
    },
    {
      "cell_type": "markdown",
      "id": "c307df2a",
      "metadata": {
        "id": "c307df2a"
      },
      "source": [
        "#### 1.2.2 Train SVRG Model"
      ]
    },
    {
      "cell_type": "code",
      "execution_count": null,
      "id": "a6eb4a70",
      "metadata": {
        "id": "a6eb4a70"
      },
      "outputs": [],
      "source": [
        "ls_svrg, wfinal_svrg, us_svrg, ts_svrg = svrg(0.025)\n",
        "\n",
        "#optimal weight approximation using large number of iterations\n",
        "ls_long, wfinal_long, us_long, ts_long = svrg(0.0025, max_iter = 500)\n",
        "plt.plot(ls_long)"
      ]
    },
    {
      "cell_type": "markdown",
      "id": "6b44a8e6",
      "metadata": {
        "id": "6b44a8e6"
      },
      "source": [
        "### 1.3 Summary for Logstic Regression\n",
        "We plot the cross-entropy training loss against gradient numbers. In order to observe the trend of training loss better, we only plot the training loss once every 100 gradient operations to prevent the plot from becoming too dense. For SGD algorithms with different learning rates, the convergence speed is negatively correlated to the learning rate, so the decreasing speed of training loss is slower for SGD with smaller learning rate. However, after approximately 6000 iterations, we no longer see significant difference between the training loss for SGD algorithms with different learning rates since all training loss oscillate between the interval $[0.25, 0.75]$. This confirms the disadvantage of fix-learning-rate SGD algorithms where convergency ends up towards a fix-size stochastic ball (Gower et al., 2020). \n",
        "\n",
        "On the other hand, convergence rate of SVRG algorithm exceeds that of all SGD’s, even when the learning rate of SVRG is greater than the leaning rates of SGDs. In addition, the training loss curve for SVRG is smooth, indicating that the training loss continues decreasing with almost no oscillation as iterations increases, which is useful when we need approximation with particularly low training loss. When compared with the original results from Johnson and Zhang  (Johnson & Zhang, 2013), the behavior of training loss is similar; however, the training loss in original results is lower, which we suspect may be due to different initialization strategies and different pre-processing procedures."
      ]
    },
    {
      "cell_type": "code",
      "execution_count": null,
      "id": "d3965ca4",
      "metadata": {
        "id": "d3965ca4",
        "outputId": "3a43f5c4-ab6b-4edb-aa06-1c4e60ec4a22"
      },
      "outputs": [
        {
          "data": {
            "image/png": "[encoded data removed]",
            "text/plain": [
              "<Figure size 432x288 with 1 Axes>"
            ]
          },
          "metadata": {
            "needs_background": "light"
          },
          "output_type": "display_data"
        }
      ],
      "source": [
        "#compare training loss\n",
        "plt.plot(ls_005[::100], label = \"SGD: 0.005\")\n",
        "plt.plot(ls_0025[::100], label = \"SGD: 0.0025\")\n",
        "plt.plot(ls_001[::100], label = \"SGD: 0.001\")\n",
        "plt.plot(ls_svrg, label = \"SVRG\")\n",
        "plt.legend()\n",
        "plt.title(\"MNIST logistic regression: training loss P(w)\")\n",
        "plt.xlabel('#gradient/100')\n",
        "plt.ylabel(\"Training loss\")\n",
        "plt.show()"
      ]
    },
    {
      "cell_type": "markdown",
      "id": "ff453dee",
      "metadata": {
        "id": "ff453dee"
      },
      "source": [
        "We plot the logarithm of training loss residual against gradient numbers for both SGD with learning rate of 0.001 and SVRG with learning rate of 0.025. Note that we compute the optimal gradient by running 1000 iterations in SVRG algorithm, in other words, the number of gradient update operations is 50000. Due to the limitation in computation power of our devices, the estimated optimal weight $w^*$ is fairly close to the weight estimates, especially for the weight estimates after approximately 6000 iterations. Such proximity is then amplified by the logarithm operation, causing large fluctuations in the right-half of the figure, thus causing the training loss residuals for large gradient numbers to become unreliable. \n",
        "\n",
        "If we focus on the training loss residuals for small gradient numbers, we will observe that the logarithm of training loss residual roughly forms a straight line, indicating that the training loss residual for both SGD and SVRG decreases exponentially. In addition, since the slope of the line for SVRG is slightly steeper than that if SGD, we assert that SVRG converges faster than SGD. The results in this graph is similar to that of Johnson, R. and Zhang, T’s"
      ]
    },
    {
      "cell_type": "code",
      "execution_count": null,
      "id": "17478e44",
      "metadata": {
        "id": "17478e44",
        "outputId": "ab35530e-9c34-4beb-be08-c274e3e414be"
      },
      "outputs": [
        {
          "name": "stderr",
          "output_type": "stream",
          "text": [
            "C:\\Users\\yuhon\\anaconda3\\envs\\hello-tf\\lib\\site-packages\\ipykernel_launcher.py:11: RuntimeWarning: invalid value encountered in log\n",
            "  # This is added back by InteractiveShellApp.init_path()\n"
          ]
        },
        {
          "data": {
            "image/png": "[encoded data removed]",
            "text/plain": [
              "<Figure size 432x288 with 1 Axes>"
            ]
          },
          "metadata": {
            "needs_background": "light"
          },
          "output_type": "display_data"
        }
      ],
      "source": [
        "#calculate P(w*)\n",
        "train_x = np.insert(mnist.train.images, 0, values=1, axis=1)\n",
        "p_star = cost(wfinal_long, train_x, mnist.train.labels, 0.0001)\n",
        "residuals_001 = ls_001 - p_star\n",
        "\n",
        "p_star_svrg = cost(wfinal_svrg, train_x, mnist.train.labels, 0.0001)\n",
        "residuals_svrg = ls_svrg - p_star\n",
        "\n",
        "#compare training loss residual P(w) - P(w*)\n",
        "plt.plot(np.log(residuals_001[::100]), label = \"SGD:0.001\")\n",
        "plt.plot(np.log(residuals_svrg), label = \"SVRG: 0.025\")\n",
        "plt.legend()\n",
        "plt.title(\"MNIST logistic regression: training loss residual P(w) - P(w*)\")\n",
        "plt.xlabel('#gradient/100')\n",
        "plt.ylabel(\"log(Training loss) - optimum\")\n",
        "plt.show()"
      ]
    },
    {
      "cell_type": "markdown",
      "id": "eaf465e6",
      "metadata": {
        "id": "eaf465e6"
      },
      "source": [
        "We use a step diagram to demonstrate the time\n",
        "consumption of gradient update operations for different\n",
        "algorithms. For demonstration purpose, each step increase\n",
        "represents the time consumption of 100 gradient update\n",
        "operations. We observe that each gradients update operation\n",
        "for SVRG algorithm roughly takes twice as long as SGD’s,\n",
        "which is reasonable since we need to calculate two different\n",
        "gradient values when calculating the gradient approximation\n",
        "in one SVRG iteration. Combine the result in this plot with\n",
        "the result in Figure.1, we can confirm that there is a trade-\n",
        "off between convergence speed and computation time per\n",
        "iteration (Johnson & Zhang, 2013)."
      ]
    },
    {
      "cell_type": "code",
      "execution_count": null,
      "id": "30ba6915",
      "metadata": {
        "id": "30ba6915",
        "outputId": "0daf26d4-52ed-4202-a145-4cf4203f1803"
      },
      "outputs": [
        {
          "name": "stderr",
          "output_type": "stream",
          "text": [
            "C:\\Users\\yuhon\\anaconda3\\envs\\hello-tf\\lib\\site-packages\\matplotlib\\backends\\backend_agg.py:238: RuntimeWarning: Glyph 65288 missing from current font.\n",
            "  font.set_text(s, 0.0, flags=flags)\n",
            "C:\\Users\\yuhon\\anaconda3\\envs\\hello-tf\\lib\\site-packages\\matplotlib\\backends\\backend_agg.py:238: RuntimeWarning: Glyph 65289 missing from current font.\n",
            "  font.set_text(s, 0.0, flags=flags)\n",
            "C:\\Users\\yuhon\\anaconda3\\envs\\hello-tf\\lib\\site-packages\\matplotlib\\backends\\backend_agg.py:201: RuntimeWarning: Glyph 65288 missing from current font.\n",
            "  font.set_text(s, 0, flags=flags)\n",
            "C:\\Users\\yuhon\\anaconda3\\envs\\hello-tf\\lib\\site-packages\\matplotlib\\backends\\backend_agg.py:201: RuntimeWarning: Glyph 65289 missing from current font.\n",
            "  font.set_text(s, 0, flags=flags)\n"
          ]
        },
        {
          "data": {
            "image/png": "[encoded data removed]",
            "text/plain": [
              "<Figure size 432x288 with 1 Axes>"
            ]
          },
          "metadata": {
            "needs_background": "light"
          },
          "output_type": "display_data"
        }
      ],
      "source": [
        "#modify svrg sum\n",
        "x_svrg = np.arange(100)\n",
        "tsum_svrg = np.zeros(100)\n",
        "for i in range(100-1):\n",
        "    tsum_svrg[i+1] = tsum_svrg[i] + ts_svrg[i]\n",
        "    \n",
        "#modify sgd001 sum\n",
        "x_001 = np.arange(10000)\n",
        "tsum_001 = np.zeros(10000)\n",
        "for i in range(10000-1):\n",
        "    tsum_001[i+1] = tsum_001[i] + ts_001[i]\n",
        "\n",
        "#compare time\n",
        "plt.step(x_svrg[::10], tsum_svrg[::10], label = \"SVRG\")\n",
        "plt.step(x_svrg[::10], tsum_001[::1000], label = \"SGD_001\")\n",
        "plt.legend()\n",
        "plt.title(\"MNIST logistic regression: time for each iteration\")\n",
        "plt.xlabel('#gradient/100')\n",
        "plt.ylabel(\"Time（seconds）\")\n",
        "plt.show()"
      ]
    },
    {
      "cell_type": "markdown",
      "id": "1fcb73ab",
      "metadata": {
        "id": "1fcb73ab"
      },
      "source": [
        "## 2 Convolutional Neural Network\n",
        "To evaluate the performance of SVRG in nonconvex opti-\n",
        "mization, compared to that of fixed-learning-rate SGD’s, we\n",
        "used the PyTorch classes from GitHub repository (Fatras,\n",
        "2018) to conduct neural network analysis with two convo-\n",
        "lution layers. The regularization parameter is λ = 0.01,\n",
        "and the total number of gradient calculation operations\n",
        "for both algorithms is fixed to 25000. We used the same\n",
        "training dataset CIFAR as Johnson and Zhang’s (Johnson\n",
        "& Zhang, 2013). Data is retrieved from Python package\n",
        "torchvision.datasets and used in analysis after normaliza-\n",
        "tion.\n",
        "\n",
        "### 2.1 Define functions"
      ]
    },
    {
      "cell_type": "code",
      "execution_count": null,
      "id": "d3d23288",
      "metadata": {
        "id": "d3d23288"
      },
      "outputs": [],
      "source": [
        "class Net(nn.Module):\n",
        "    def __init__(self):\n",
        "        super(Net, self).__init__()\n",
        "        self.conv1 = nn.Conv2d(3, 6, 5)\n",
        "        self.pool = nn.MaxPool2d(2, 2)\n",
        "        self.conv2 = nn.Conv2d(6, 16, 5)\n",
        "        self.fc1 = nn.Linear(16 * 5 * 5, 120)\n",
        "        self.fc2 = nn.Linear(120, 84)\n",
        "        self.fc3 = nn.Linear(84, 10)\n",
        "\n",
        "    def forward(self, x):\n",
        "        \"\"\"\n",
        "        Function to predict data's classification\n",
        "        args : neural net, data\n",
        "        output : prediction\n",
        "        \"\"\"\n",
        "        x = self.pool(F.relu(self.conv1(x)))\n",
        "        x = self.pool(F.relu(self.conv2(x)))\n",
        "        x = x.view(-1, 16 * 5 * 5)\n",
        "        x = F.relu(self.fc1(x))\n",
        "        x = F.relu(self.fc2(x))\n",
        "        x = self.fc3(x)\n",
        "        return x\n",
        "    \n",
        "    def partial_grad(self, data, target, loss_function):\n",
        "        \"\"\"\n",
        "        Function to compute the grad\n",
        "        args : data, target, loss_function\n",
        "        return loss\n",
        "        \"\"\"\n",
        "        outputs = self.forward(data)\n",
        "        loss = loss_function(outputs, target)\n",
        "        loss.backward() #compute grad\n",
        "        return loss\n",
        "    \n",
        "    def calculate_loss_grad(self, dataset, loss_function, n_samples):\n",
        "        \"\"\"\n",
        "        Function to compute the full loss and the full gradient\n",
        "        args : dataset, loss function and number of samples\n",
        "        return : total loss and full grad norm\n",
        "        \"\"\"\n",
        "        total_loss = 0.0\n",
        "        full_grad = 0.0\n",
        "        for i_grad, data_grad in enumerate(dataset):\n",
        "            inputs, labels = data_grad\n",
        "            inputs, labels = Variable(inputs), Variable(labels) #wrap data and target into variable\n",
        "            total_loss += (1./n_samples) * self.partial_grad(inputs, labels, loss_function).data\n",
        "        \n",
        "        for para in self.parameters():\n",
        "            full_grad += para.grad.data.norm(2)**2\n",
        "        \n",
        "        return total_loss, (1./n_samples) * np.sqrt(full_grad)\n",
        "    \n",
        "    def svrg_backward(self, dataset, loss_function, n_epoch, learning_rate):\n",
        "        \"\"\"\n",
        "        Function to updated weights with a SVRG backpropagation\n",
        "        args : dataset, loss function, number of epochs, learning rate\n",
        "        return : total_loss_epoch, grad_norm_epoch\n",
        "        \"\"\"\n",
        "        ls = []\n",
        "        total_loss_epoch = [0 for i in range(n_epoch)]\n",
        "        grad_norm_epoch = [0 for i in range(n_epoch)]\n",
        "        for epoch in range(n_epoch):\n",
        "            running_loss = 0.0\n",
        "            previous_net_sgd = copy.deepcopy(self) #update previous_net_sgd\n",
        "            previous_net_grad = copy.deepcopy(self) #update previous_net_grad\n",
        "\n",
        "            #Compute full grad\n",
        "            previous_net_grad.zero_grad() # grad = 0\n",
        "            total_loss_epoch[epoch], grad_norm_epoch[epoch] = previous_net_grad.calculate_loss_grad(dataset, loss_function, n_samples)\n",
        "            print(total_loss_epoch[epoch], grad_norm_epoch[epoch])\n",
        "            #Run over the dataset\n",
        "            for i_data, data in enumerate(dataset):\n",
        "                inputs, labels = data\n",
        "                inputs, labels = Variable(inputs), Variable(labels) #wrap data and target into variable\n",
        "                \n",
        "                #Compute prev stoc grad\n",
        "                previous_net_sgd.zero_grad() #grad = 0\n",
        "                prev_loss = previous_net_sgd.partial_grad(inputs, labels, loss_function)\n",
        "                \n",
        "                #Compute cur stoc grad\n",
        "                self.zero_grad() #grad = 0\n",
        "                cur_loss = self.partial_grad(inputs, labels, loss_function)\n",
        "                \n",
        "                #Backward\n",
        "                for param1, param2, param3 in zip(self.parameters(), previous_net_sgd.parameters(), previous_net_grad.parameters()): \n",
        "                    param1.data -= (learning_rate) * (param1.grad.data - param2.grad.data + (1./n_samples) * param3.grad.data)\n",
        "\n",
        "                # print statistics\n",
        "                running_loss += cur_loss.data\n",
        "                \n",
        "                if i_data % 1000 == 999:    # print every 2500 mini-batches\n",
        "                    ls.append(running_loss/1000)\n",
        "                    print('[%d, %5d] loss: %.3f' %\n",
        "                        (epoch + 1, i_data + 1, running_loss / 1000))\n",
        "                    running_loss = 0.0\n",
        "                \n",
        "        return total_loss_epoch, grad_norm_epoch, ls\n"
      ]
    },
    {
      "cell_type": "code",
      "execution_count": null,
      "id": "9d5396ad",
      "metadata": {
        "id": "9d5396ad"
      },
      "outputs": [],
      "source": [
        "class sgdNet(nn.Module):\n",
        "    def __init__(self):\n",
        "        super(sgdNet, self).__init__()\n",
        "        self.conv1 = nn.Conv2d(3, 6, 5)\n",
        "        self.pool = nn.MaxPool2d(2, 2)\n",
        "        self.conv2 = nn.Conv2d(6, 16, 5)\n",
        "        self.fc1 = nn.Linear(16 * 5 * 5, 120)\n",
        "        self.fc2 = nn.Linear(120, 84)\n",
        "        self.fc3 = nn.Linear(84, 10)\n",
        "\n",
        "    def forward(self, x):\n",
        "        x = self.pool(F.relu(self.conv1(x)))\n",
        "        x = self.pool(F.relu(self.conv2(x)))\n",
        "        x = x.view(-1, 16 * 5 * 5)\n",
        "        x = F.relu(self.fc1(x))\n",
        "        x = F.relu(self.fc2(x))\n",
        "        x = self.fc3(x)\n",
        "        return x"
      ]
    },
    {
      "cell_type": "markdown",
      "id": "a6a73edb",
      "metadata": {
        "id": "a6a73edb"
      },
      "source": [
        "### 2.2 Train Model"
      ]
    },
    {
      "cell_type": "code",
      "execution_count": null,
      "id": "3e3b63c2",
      "metadata": {
        "id": "3e3b63c2",
        "outputId": "71f87bbd-db10-46ff-f743-a03d4b7a3048"
      },
      "outputs": [
        {
          "name": "stdout",
          "output_type": "stream",
          "text": [
            "Files already downloaded and verified\n",
            "Files already downloaded and verified\n"
          ]
        }
      ],
      "source": [
        "#load data\n",
        "transform = transforms.Compose([transforms.ToTensor(),\n",
        "                                transforms.Normalize((0.5, 0.5, 0.5), (0.5, 0.5, 0.5))])\n",
        "\n",
        "trainset = torchvision.datasets.CIFAR10(root='C:/Users/yuhon/Documents/2022 winter/stad80/project/data_set', train=True,\n",
        "                                        download=True, transform=transform)\n",
        "trainloader = torch.utils.data.DataLoader(trainset, batch_size=4,\n",
        "                                          shuffle=True, num_workers=2)\n",
        "\n",
        "testset = torchvision.datasets.CIFAR10(root='C:/Users/yuhon/Documents/2022 winter/stad80/project/data_set', train=False,\n",
        "                                       download=True, transform=transform)\n",
        "testloader = torch.utils.data.DataLoader(testset, batch_size=4,\n",
        "                                         shuffle=False, num_workers=2)"
      ]
    },
    {
      "cell_type": "markdown",
      "id": "5344e0af",
      "metadata": {
        "id": "5344e0af"
      },
      "source": [
        "#### 2.2.1 Train SDG model (using default optimizer)"
      ]
    },
    {
      "cell_type": "code",
      "execution_count": null,
      "id": "dfcd336e",
      "metadata": {
        "id": "dfcd336e",
        "outputId": "b8386e8c-3952-4c28-e298-aded3a0a0c42"
      },
      "outputs": [
        {
          "name": "stdout",
          "output_type": "stream",
          "text": [
            "[1,  2500] loss: 2.126\n",
            "[1,  5000] loss: 1.797\n",
            "[1,  7500] loss: 1.632\n",
            "[1, 10000] loss: 1.527\n",
            "[1, 12500] loss: 1.495\n",
            "[2,  2500] loss: 1.397\n",
            "[2,  5000] loss: 1.369\n",
            "[2,  7500] loss: 1.333\n",
            "[2, 10000] loss: 1.312\n",
            "[2, 12500] loss: 1.294\n",
            "[3,  2500] loss: 1.203\n",
            "[3,  5000] loss: 1.198\n",
            "[3,  7500] loss: 1.190\n",
            "[3, 10000] loss: 1.185\n",
            "[3, 12500] loss: 1.173\n",
            "[4,  2500] loss: 1.076\n",
            "[4,  5000] loss: 1.080\n",
            "[4,  7500] loss: 1.094\n",
            "[4, 10000] loss: 1.117\n",
            "[4, 12500] loss: 1.101\n",
            "[5,  2500] loss: 1.008\n",
            "[5,  5000] loss: 1.034\n",
            "[5,  7500] loss: 1.026\n",
            "[5, 10000] loss: 1.011\n",
            "[5, 12500] loss: 1.028\n",
            "time is :  841.3146357536316\n",
            "Finished Training\n"
          ]
        }
      ],
      "source": [
        "gradloader = torch.utils.data.DataLoader(trainset, batch_size=4,shuffle=False)\n",
        "\n",
        "net = sgdNet()\n",
        "criterion = nn.CrossEntropyLoss()\n",
        "learning_rate = 0.01\n",
        "num_epoch = 5\n",
        "optimizer = torch.optim.SGD(net.parameters(), lr=learning_rate)\n",
        "\n",
        "start = time.time()\n",
        "ls = []\n",
        "\n",
        "for epoch in range(num_epoch):\n",
        "    #compute full gradient and full loss function\n",
        "    running_loss = 0.0\n",
        "    net.zero_grad()\n",
        "    for i, data in enumerate(gradloader, 0):\n",
        "        inputs, labels = data\n",
        "        inputs, labels = Variable(inputs), Variable(labels)\n",
        "        outputs = net(inputs)\n",
        "        loss_grad = criterion(outputs, labels)\n",
        "        loss_grad.backward()\n",
        "\n",
        "    for i, data in enumerate(trainloader, 0):\n",
        "        inputs, labels = data\n",
        "        inputs, labels = Variable(inputs), Variable(labels)\n",
        "        net.zero_grad()\n",
        "        outputs = net(inputs)\n",
        "        loss = criterion(outputs, labels)\n",
        "        loss.backward()\n",
        "        for f in net.parameters():\n",
        "            f.data.sub_(f.grad.data * learning_rate)\n",
        "\n",
        "        # print statistics\n",
        "        running_loss += loss.data\n",
        "        ls.append(loss.data)\n",
        "        if i % 2500 == 2499:\n",
        "            print('[%d, %5d] loss: %.3f' %\n",
        "                    (epoch + 1, i + 1, running_loss / 2500))\n",
        "            running_loss = 0.0\n",
        "\n",
        "end = time.time()\n",
        "print('time is : ', end - start)\n",
        "print('Finished Training')"
      ]
    },
    {
      "cell_type": "markdown",
      "id": "0644fca5",
      "metadata": {
        "id": "0644fca5"
      },
      "source": [
        "#### 2.2.2 Train SVRG model"
      ]
    },
    {
      "cell_type": "code",
      "execution_count": null,
      "id": "d72d0af3",
      "metadata": {
        "id": "d72d0af3",
        "outputId": "3caa0561-0d5d-4434-edc0-f433c598bf14"
      },
      "outputs": [
        {
          "name": "stdout",
          "output_type": "stream",
          "text": [
            "12500\n",
            "tensor(2.3050) tensor(0.0389)\n",
            "[1,  1000] loss: 2.296\n",
            "[1,  2000] loss: 2.109\n",
            "[1,  3000] loss: 1.880\n",
            "[1,  4000] loss: 1.776\n",
            "[1,  5000] loss: 1.699\n",
            "[1,  6000] loss: 1.648\n",
            "[1,  7000] loss: 1.590\n",
            "[1,  8000] loss: 1.584\n",
            "[1,  9000] loss: 1.526\n",
            "[1, 10000] loss: 1.517\n",
            "[1, 11000] loss: 1.493\n",
            "[1, 12000] loss: 1.470\n",
            "tensor(1.3842) tensor(0.9345)\n",
            "[2,  1000] loss: 1.349\n",
            "[2,  2000] loss: 1.302\n",
            "[2,  3000] loss: 1.280\n",
            "[2,  4000] loss: 1.257\n",
            "[2,  5000] loss: 1.279\n",
            "[2,  6000] loss: 1.267\n",
            "[2,  7000] loss: 1.231\n",
            "[2,  8000] loss: 1.202\n",
            "[2,  9000] loss: 1.216\n",
            "[2, 10000] loss: 1.182\n",
            "[2, 11000] loss: 1.175\n",
            "[2, 12000] loss: 1.217\n",
            "tensor(1.2390) tensor(2.3389)\n",
            "[3,  1000] loss: 1.140\n",
            "[3,  2000] loss: 1.133\n",
            "[3,  3000] loss: 1.154\n",
            "[3,  4000] loss: 1.118\n",
            "[3,  5000] loss: 1.112\n",
            "[3,  6000] loss: 1.128\n",
            "[3,  7000] loss: 1.106\n",
            "[3,  8000] loss: 1.139\n",
            "[3,  9000] loss: 1.073\n",
            "[3, 10000] loss: 1.112\n",
            "[3, 11000] loss: 1.112\n",
            "[3, 12000] loss: 1.097\n",
            "tensor(1.0508) tensor(1.1377)\n",
            "[4,  1000] loss: 0.995\n",
            "[4,  2000] loss: 1.038\n",
            "[4,  3000] loss: 1.028\n",
            "[4,  4000] loss: 1.060\n",
            "[4,  5000] loss: 1.049\n",
            "[4,  6000] loss: 0.992\n",
            "[4,  7000] loss: 1.038\n",
            "[4,  8000] loss: 1.017\n",
            "[4,  9000] loss: 1.033\n",
            "[4, 10000] loss: 0.997\n",
            "[4, 11000] loss: 0.987\n",
            "[4, 12000] loss: 0.999\n",
            "tensor(0.9366) tensor(0.7545)\n",
            "[5,  1000] loss: 0.885\n",
            "[5,  2000] loss: 0.927\n",
            "[5,  3000] loss: 0.927\n",
            "[5,  4000] loss: 0.935\n",
            "[5,  5000] loss: 0.922\n",
            "[5,  6000] loss: 0.939\n",
            "[5,  7000] loss: 0.926\n",
            "[5,  8000] loss: 0.926\n",
            "[5,  9000] loss: 0.895\n",
            "[5, 10000] loss: 0.895\n",
            "[5, 11000] loss: 0.887\n",
            "[5, 12000] loss: 0.933\n",
            "time is :  821.4495241641998\n",
            "Finished Training\n"
          ]
        }
      ],
      "source": [
        "net = Net()\n",
        "criterion = nn.CrossEntropyLoss()\n",
        "n_epoch = 5\n",
        "learning_rate = 0.01\n",
        "start = time.time()\n",
        "n_samples = len(trainloader)\n",
        "print(n_samples)\n",
        "total_loss_epoch, grad_norm_epoch, ls_svrg = net.svrg_backward(trainloader, criterion, n_epoch, learning_rate)\n",
        "\n",
        "end = time.time()\n",
        "print('time is : ', end - start)\n",
        "print('Finished Training')"
      ]
    },
    {
      "cell_type": "markdown",
      "id": "ec1365d7",
      "metadata": {
        "id": "ec1365d7"
      },
      "source": [
        "### 2.3 Summary for Neural Network\n",
        "We plot the cross-entropy loss training loss\n",
        "against every 1000 iterations. We observe that after 25000\n",
        "iterations, the weight approximations of SGD and SVRG is\n",
        "similar, however the training loss curve of SGD algorithm\n",
        "experiences large oscillations, while the training loss curve\n",
        "of SGD algorithm remains smooth. This confirms the fact\n",
        "that the gradient approximation of SVRG algorithm has smaller variance when being compared to SGD algorithm."
      ]
    },
    {
      "cell_type": "code",
      "execution_count": null,
      "id": "6025da0b",
      "metadata": {
        "id": "6025da0b",
        "outputId": "5baf1168-d188-4839-ec21-5dd44b1def37"
      },
      "outputs": [
        {
          "data": {
            "image/png": "[encoded data removed]",
            "text/plain": [
              "<Figure size 432x288 with 1 Axes>"
            ]
          },
          "metadata": {
            "needs_background": "light"
          },
          "output_type": "display_data"
        }
      ],
      "source": [
        "#format ls from tensor to numeric\n",
        "ls_num = np.zeros(len(ls_svrg))\n",
        "for i in range(len(ls_svrg)):\n",
        "    ls_num[i] = ls_svrg[i].numpy()\n",
        "\n",
        "#comapre training loss\n",
        "plt.plot(ls_num, label = \"SVRG\")\n",
        "plt.plot(ls[::1000], label = \"SGD\")\n",
        "plt.legend()\n",
        "plt.title(\"CIFAR-10 neural network: training loss\")\n",
        "plt.xlabel('#gradient/1000')\n",
        "plt.ylabel(\"Training loss\")\n",
        "plt.show()"
      ]
    }
  ],
  "metadata": {
    "kernelspec": {
      "display_name": "Python 3",
      "language": "python",
      "name": "python3"
    },
    "language_info": {
      "codemirror_mode": {
        "name": "ipython",
        "version": 3
      },
      "file_extension": ".py",
      "mimetype": "text/x-python",
      "name": "python",
      "nbconvert_exporter": "python",
      "pygments_lexer": "ipython3",
      "version": "3.6.13"
    },
    "colab": {
      "provenance": []
    }
  },
  "nbformat": 4,
  "nbformat_minor": 5
}